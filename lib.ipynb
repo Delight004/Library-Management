{
 "cells": [
  {
   "cell_type": "code",
   "execution_count": 4,
   "id": "6e509f42-b388-40f1-b08b-40d9efb9cbbb",
   "metadata": {},
   "outputs": [],
   "source": [
    "import pandas as pd"
   ]
  },
  {
   "cell_type": "code",
   "execution_count": 5,
   "id": "4299fbe2-ac76-4b35-a083-6379627c8425",
   "metadata": {},
   "outputs": [],
   "source": [
    "books = pd.read_csv(r\"C:\\Users\\USER\\Desktop\\10Alytics\\week 4 SQL\\books_csv.csv\")"
   ]
  },
  {
   "cell_type": "code",
   "execution_count": 6,
   "id": "3b65226c-82c2-4e5c-ae75-c6b87e95bc5d",
   "metadata": {
    "scrolled": true
   },
   "outputs": [
    {
     "data": {
      "text/html": [
       "<div>\n",
       "<style scoped>\n",
       "    .dataframe tbody tr th:only-of-type {\n",
       "        vertical-align: middle;\n",
       "    }\n",
       "\n",
       "    .dataframe tbody tr th {\n",
       "        vertical-align: top;\n",
       "    }\n",
       "\n",
       "    .dataframe thead th {\n",
       "        text-align: right;\n",
       "    }\n",
       "</style>\n",
       "<table border=\"1\" class=\"dataframe\">\n",
       "  <thead>\n",
       "    <tr style=\"text-align: right;\">\n",
       "      <th></th>\n",
       "      <th>BookID</th>\n",
       "      <th>Title</th>\n",
       "      <th>Author</th>\n",
       "      <th>Genre</th>\n",
       "      <th>PublishedDate</th>\n",
       "      <th>ISBN</th>\n",
       "      <th>CopiesAvailable</th>\n",
       "    </tr>\n",
       "  </thead>\n",
       "  <tbody>\n",
       "    <tr>\n",
       "      <th>0</th>\n",
       "      <td>1</td>\n",
       "      <td>The FloralWhite Purpose number model air</td>\n",
       "      <td>Steven Kelly</td>\n",
       "      <td>Fantasy</td>\n",
       "      <td>2021-08-18</td>\n",
       "      <td>978-0-7507-0772-5</td>\n",
       "      <td>9</td>\n",
       "    </tr>\n",
       "    <tr>\n",
       "      <th>1</th>\n",
       "      <td>2</td>\n",
       "      <td>The Fuchsia Wide several pay education</td>\n",
       "      <td>Dr. Joanna Carter</td>\n",
       "      <td>Mystery</td>\n",
       "      <td>2017-08-28</td>\n",
       "      <td>978-1-83033-305-6</td>\n",
       "      <td>8</td>\n",
       "    </tr>\n",
       "    <tr>\n",
       "      <th>2</th>\n",
       "      <td>3</td>\n",
       "      <td>The Orchid Able suffer</td>\n",
       "      <td>William Escobar</td>\n",
       "      <td>Non-fiction</td>\n",
       "      <td>2020-09-08</td>\n",
       "      <td>978-1-972153-48-2</td>\n",
       "      <td>18</td>\n",
       "    </tr>\n",
       "    <tr>\n",
       "      <th>3</th>\n",
       "      <td>4</td>\n",
       "      <td>The LightPink Carry alone trade include</td>\n",
       "      <td>Sheryl Sullivan</td>\n",
       "      <td>Romance</td>\n",
       "      <td>2006-10-21</td>\n",
       "      <td>978-1-385-95042-5</td>\n",
       "      <td>14</td>\n",
       "    </tr>\n",
       "    <tr>\n",
       "      <th>4</th>\n",
       "      <td>5</td>\n",
       "      <td>The RosyBrown Senior material</td>\n",
       "      <td>Kristen Mcneil</td>\n",
       "      <td>Science Fiction</td>\n",
       "      <td>2015-06-12</td>\n",
       "      <td>978-1-57863-381-4</td>\n",
       "      <td>11</td>\n",
       "    </tr>\n",
       "  </tbody>\n",
       "</table>\n",
       "</div>"
      ],
      "text/plain": [
       "   BookID                                     Title             Author  \\\n",
       "0       1  The FloralWhite Purpose number model air       Steven Kelly   \n",
       "1       2    The Fuchsia Wide several pay education  Dr. Joanna Carter   \n",
       "2       3                    The Orchid Able suffer    William Escobar   \n",
       "3       4   The LightPink Carry alone trade include    Sheryl Sullivan   \n",
       "4       5             The RosyBrown Senior material     Kristen Mcneil   \n",
       "\n",
       "             Genre PublishedDate               ISBN  CopiesAvailable  \n",
       "0          Fantasy    2021-08-18  978-0-7507-0772-5                9  \n",
       "1          Mystery    2017-08-28  978-1-83033-305-6                8  \n",
       "2      Non-fiction    2020-09-08  978-1-972153-48-2               18  \n",
       "3          Romance    2006-10-21  978-1-385-95042-5               14  \n",
       "4  Science Fiction    2015-06-12  978-1-57863-381-4               11  "
      ]
     },
     "execution_count": 6,
     "metadata": {},
     "output_type": "execute_result"
    }
   ],
   "source": [
    "books.head()"
   ]
  },
  {
   "cell_type": "code",
   "execution_count": 7,
   "id": "34dac266-babc-4a96-9034-b6c77784714a",
   "metadata": {},
   "outputs": [
    {
     "data": {
      "text/plain": [
       "(500, 7)"
      ]
     },
     "execution_count": 7,
     "metadata": {},
     "output_type": "execute_result"
    }
   ],
   "source": [
    "books.shape"
   ]
  },
  {
   "cell_type": "code",
   "execution_count": 8,
   "id": "3875fe51-46b3-4175-8169-3fee19946980",
   "metadata": {
    "scrolled": true
   },
   "outputs": [
    {
     "name": "stdout",
     "output_type": "stream",
     "text": [
      "<class 'pandas.core.frame.DataFrame'>\n",
      "RangeIndex: 500 entries, 0 to 499\n",
      "Data columns (total 7 columns):\n",
      " #   Column           Non-Null Count  Dtype \n",
      "---  ------           --------------  ----- \n",
      " 0   BookID           500 non-null    int64 \n",
      " 1   Title            500 non-null    object\n",
      " 2   Author           500 non-null    object\n",
      " 3   Genre            500 non-null    object\n",
      " 4   PublishedDate    500 non-null    object\n",
      " 5   ISBN             500 non-null    object\n",
      " 6   CopiesAvailable  500 non-null    int64 \n",
      "dtypes: int64(2), object(5)\n",
      "memory usage: 27.5+ KB\n"
     ]
    }
   ],
   "source": [
    "books.info()"
   ]
  },
  {
   "cell_type": "code",
   "execution_count": 9,
   "id": "171ceade-1f7c-4571-a9cc-75e3e2d906d9",
   "metadata": {},
   "outputs": [
    {
     "data": {
      "text/plain": [
       "Genre\n",
       "Romance            83\n",
       "Fantasy            79\n",
       "Non-fiction        76\n",
       "Thriller           73\n",
       "Mystery            71\n",
       "Historical         60\n",
       "Science Fiction    58\n",
       "Name: count, dtype: int64"
      ]
     },
     "execution_count": 9,
     "metadata": {},
     "output_type": "execute_result"
    }
   ],
   "source": [
    "books['Genre'].value_counts()"
   ]
  },
  {
   "cell_type": "code",
   "execution_count": 10,
   "id": "fe2f0c1c-64a0-48f4-8388-d4679fc03bb1",
   "metadata": {},
   "outputs": [],
   "source": [
    "loan = pd.read_csv(r\"C:\\Users\\USER\\Desktop\\10Alytics\\week 4 SQL\\loans_csv.csv\")"
   ]
  },
  {
   "cell_type": "code",
   "execution_count": 11,
   "id": "558a7c41-9a66-4e75-99ad-dcd9d23e8c50",
   "metadata": {},
   "outputs": [
    {
     "data": {
      "text/html": [
       "<div>\n",
       "<style scoped>\n",
       "    .dataframe tbody tr th:only-of-type {\n",
       "        vertical-align: middle;\n",
       "    }\n",
       "\n",
       "    .dataframe tbody tr th {\n",
       "        vertical-align: top;\n",
       "    }\n",
       "\n",
       "    .dataframe thead th {\n",
       "        text-align: right;\n",
       "    }\n",
       "</style>\n",
       "<table border=\"1\" class=\"dataframe\">\n",
       "  <thead>\n",
       "    <tr style=\"text-align: right;\">\n",
       "      <th></th>\n",
       "      <th>LoanID</th>\n",
       "      <th>BookID</th>\n",
       "      <th>MemberID</th>\n",
       "      <th>LoanDate</th>\n",
       "      <th>DueDate</th>\n",
       "      <th>ReturnDate</th>\n",
       "    </tr>\n",
       "  </thead>\n",
       "  <tbody>\n",
       "    <tr>\n",
       "      <th>0</th>\n",
       "      <td>1</td>\n",
       "      <td>438</td>\n",
       "      <td>126</td>\n",
       "      <td>2023-05-29</td>\n",
       "      <td>2023-06-12</td>\n",
       "      <td>2023-06-03</td>\n",
       "    </tr>\n",
       "    <tr>\n",
       "      <th>1</th>\n",
       "      <td>2</td>\n",
       "      <td>371</td>\n",
       "      <td>308</td>\n",
       "      <td>2023-04-20</td>\n",
       "      <td>2023-05-04</td>\n",
       "      <td>2023-04-27</td>\n",
       "    </tr>\n",
       "    <tr>\n",
       "      <th>2</th>\n",
       "      <td>3</td>\n",
       "      <td>340</td>\n",
       "      <td>128</td>\n",
       "      <td>2023-04-03</td>\n",
       "      <td>2023-04-17</td>\n",
       "      <td>2023-04-15</td>\n",
       "    </tr>\n",
       "    <tr>\n",
       "      <th>3</th>\n",
       "      <td>4</td>\n",
       "      <td>223</td>\n",
       "      <td>204</td>\n",
       "      <td>2023-08-31</td>\n",
       "      <td>2023-09-14</td>\n",
       "      <td>2023-09-06</td>\n",
       "    </tr>\n",
       "    <tr>\n",
       "      <th>4</th>\n",
       "      <td>7</td>\n",
       "      <td>328</td>\n",
       "      <td>178</td>\n",
       "      <td>2023-06-12</td>\n",
       "      <td>2023-06-26</td>\n",
       "      <td>2023-06-20</td>\n",
       "    </tr>\n",
       "  </tbody>\n",
       "</table>\n",
       "</div>"
      ],
      "text/plain": [
       "   LoanID  BookID  MemberID    LoanDate     DueDate  ReturnDate\n",
       "0       1     438       126  2023-05-29  2023-06-12  2023-06-03\n",
       "1       2     371       308  2023-04-20  2023-05-04  2023-04-27\n",
       "2       3     340       128  2023-04-03  2023-04-17  2023-04-15\n",
       "3       4     223       204  2023-08-31  2023-09-14  2023-09-06\n",
       "4       7     328       178  2023-06-12  2023-06-26  2023-06-20"
      ]
     },
     "execution_count": 11,
     "metadata": {},
     "output_type": "execute_result"
    }
   ],
   "source": [
    "loan.head()"
   ]
  },
  {
   "cell_type": "code",
   "execution_count": 29,
   "id": "af6d8f8a-aed5-4dbf-873b-4388697a3061",
   "metadata": {},
   "outputs": [
    {
     "data": {
      "text/plain": [
       "(685, 6)"
      ]
     },
     "execution_count": 29,
     "metadata": {},
     "output_type": "execute_result"
    }
   ],
   "source": [
    "loan.shape"
   ]
  },
  {
   "cell_type": "code",
   "execution_count": 12,
   "id": "605671b7-8399-4f86-a12e-96e88c9aff55",
   "metadata": {},
   "outputs": [
    {
     "name": "stdout",
     "output_type": "stream",
     "text": [
      "<class 'pandas.core.frame.DataFrame'>\n",
      "RangeIndex: 685 entries, 0 to 684\n",
      "Data columns (total 6 columns):\n",
      " #   Column      Non-Null Count  Dtype \n",
      "---  ------      --------------  ----- \n",
      " 0   LoanID      685 non-null    int64 \n",
      " 1   BookID      685 non-null    int64 \n",
      " 2   MemberID    685 non-null    int64 \n",
      " 3   LoanDate    685 non-null    object\n",
      " 4   DueDate     685 non-null    object\n",
      " 5   ReturnDate  685 non-null    object\n",
      "dtypes: int64(3), object(3)\n",
      "memory usage: 32.2+ KB\n"
     ]
    }
   ],
   "source": [
    "loan.info()"
   ]
  },
  {
   "cell_type": "code",
   "execution_count": 13,
   "id": "da8b019f-9be3-469e-ab53-bd7b353b848f",
   "metadata": {},
   "outputs": [],
   "source": [
    "members = pd.read_csv(r\"C:\\Users\\USER\\Desktop\\10Alytics\\week 4 SQL\\members_csv.csv\")"
   ]
  },
  {
   "cell_type": "code",
   "execution_count": 14,
   "id": "d99bfaf2-9f6a-4bf3-adc8-931672d6a101",
   "metadata": {},
   "outputs": [
    {
     "data": {
      "text/html": [
       "<div>\n",
       "<style scoped>\n",
       "    .dataframe tbody tr th:only-of-type {\n",
       "        vertical-align: middle;\n",
       "    }\n",
       "\n",
       "    .dataframe tbody tr th {\n",
       "        vertical-align: top;\n",
       "    }\n",
       "\n",
       "    .dataframe thead th {\n",
       "        text-align: right;\n",
       "    }\n",
       "</style>\n",
       "<table border=\"1\" class=\"dataframe\">\n",
       "  <thead>\n",
       "    <tr style=\"text-align: right;\">\n",
       "      <th></th>\n",
       "      <th>MemberID</th>\n",
       "      <th>FirstName</th>\n",
       "      <th>LastName</th>\n",
       "      <th>Email</th>\n",
       "      <th>RegisteredDate</th>\n",
       "    </tr>\n",
       "  </thead>\n",
       "  <tbody>\n",
       "    <tr>\n",
       "      <th>0</th>\n",
       "      <td>1</td>\n",
       "      <td>Larry</td>\n",
       "      <td>Garrett</td>\n",
       "      <td>markadams@example.net</td>\n",
       "      <td>2023-02-14</td>\n",
       "    </tr>\n",
       "    <tr>\n",
       "      <th>1</th>\n",
       "      <td>2</td>\n",
       "      <td>Mary</td>\n",
       "      <td>Parker</td>\n",
       "      <td>ferrelljennifer@example.org</td>\n",
       "      <td>2023-09-05</td>\n",
       "    </tr>\n",
       "    <tr>\n",
       "      <th>2</th>\n",
       "      <td>3</td>\n",
       "      <td>Brian</td>\n",
       "      <td>Dillon</td>\n",
       "      <td>james53@example.com</td>\n",
       "      <td>2023-03-26</td>\n",
       "    </tr>\n",
       "    <tr>\n",
       "      <th>3</th>\n",
       "      <td>4</td>\n",
       "      <td>Christina</td>\n",
       "      <td>Anderson</td>\n",
       "      <td>jacksonbilly@example.org</td>\n",
       "      <td>2023-06-03</td>\n",
       "    </tr>\n",
       "    <tr>\n",
       "      <th>4</th>\n",
       "      <td>5</td>\n",
       "      <td>Olivia</td>\n",
       "      <td>Parker</td>\n",
       "      <td>njensen@example.net</td>\n",
       "      <td>2023-06-03</td>\n",
       "    </tr>\n",
       "  </tbody>\n",
       "</table>\n",
       "</div>"
      ],
      "text/plain": [
       "   MemberID  FirstName  LastName                        Email RegisteredDate\n",
       "0         1      Larry   Garrett        markadams@example.net     2023-02-14\n",
       "1         2       Mary    Parker  ferrelljennifer@example.org     2023-09-05\n",
       "2         3      Brian    Dillon          james53@example.com     2023-03-26\n",
       "3         4  Christina  Anderson     jacksonbilly@example.org     2023-06-03\n",
       "4         5     Olivia    Parker          njensen@example.net     2023-06-03"
      ]
     },
     "execution_count": 14,
     "metadata": {},
     "output_type": "execute_result"
    }
   ],
   "source": [
    "members.head()"
   ]
  },
  {
   "cell_type": "code",
   "execution_count": 15,
   "id": "57a2e055-a7e5-4be8-96d8-9452fd7bd753",
   "metadata": {},
   "outputs": [
    {
     "name": "stdout",
     "output_type": "stream",
     "text": [
      "<class 'pandas.core.frame.DataFrame'>\n",
      "RangeIndex: 400 entries, 0 to 399\n",
      "Data columns (total 5 columns):\n",
      " #   Column          Non-Null Count  Dtype \n",
      "---  ------          --------------  ----- \n",
      " 0   MemberID        400 non-null    int64 \n",
      " 1   FirstName       400 non-null    object\n",
      " 2   LastName        400 non-null    object\n",
      " 3   Email           400 non-null    object\n",
      " 4   RegisteredDate  400 non-null    object\n",
      "dtypes: int64(1), object(4)\n",
      "memory usage: 15.8+ KB\n"
     ]
    }
   ],
   "source": [
    "members.info()"
   ]
  },
  {
   "cell_type": "code",
   "execution_count": null,
   "id": "939d4d50-ecda-43a9-830f-99c8f48b8f14",
   "metadata": {},
   "outputs": [],
   "source": []
  }
 ],
 "metadata": {
  "kernelspec": {
   "display_name": "Python 3 (ipykernel)",
   "language": "python",
   "name": "python3"
  },
  "language_info": {
   "codemirror_mode": {
    "name": "ipython",
    "version": 3
   },
   "file_extension": ".py",
   "mimetype": "text/x-python",
   "name": "python",
   "nbconvert_exporter": "python",
   "pygments_lexer": "ipython3",
   "version": "3.11.5"
  }
 },
 "nbformat": 4,
 "nbformat_minor": 5
}
